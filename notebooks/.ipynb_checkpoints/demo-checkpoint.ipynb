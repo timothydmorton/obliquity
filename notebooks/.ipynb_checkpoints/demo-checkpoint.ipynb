{
 "metadata": {
  "name": "",
  "signature": "sha256:fee0ddfa8f220507ee4283448ee684f92f5aab7797aa417463e2d2da8fb1c3d6"
 },
 "nbformat": 3,
 "nbformat_minor": 0,
 "worksheets": []
}